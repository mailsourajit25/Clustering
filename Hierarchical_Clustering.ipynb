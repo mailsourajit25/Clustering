{
  "nbformat": 4,
  "nbformat_minor": 0,
  "metadata": {
    "colab": {
      "name": "Hierarchical Clustering.ipynb",
      "provenance": []
    },
    "kernelspec": {
      "name": "python3",
      "display_name": "Python 3"
    }
  },
  "cells": [
    {
      "cell_type": "code",
      "metadata": {
        "id": "J35wzcJAV6Wb",
        "outputId": "5a18ad5e-3635-47f3-9fde-f076e81b4287",
        "colab": {
          "resources": {
            "http://localhost:8080/nbextensions/google.colab/files.js": {
              "data": "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",
              "ok": true,
              "headers": [
                [
                  "content-type",
                  "application/javascript"
                ]
              ],
              "status": 200,
              "status_text": ""
            }
          },
          "base_uri": "https://localhost:8080/",
          "height": 73
        }
      },
      "source": [
        "from google.colab import files \n",
        "uploaded = files.upload()"
      ],
      "execution_count": 1,
      "outputs": [
        {
          "output_type": "display_data",
          "data": {
            "text/html": [
              "\n",
              "     <input type=\"file\" id=\"files-98335a73-957f-4f72-b4b7-fd5a046e98f7\" name=\"files[]\" multiple disabled\n",
              "        style=\"border:none\" />\n",
              "     <output id=\"result-98335a73-957f-4f72-b4b7-fd5a046e98f7\">\n",
              "      Upload widget is only available when the cell has been executed in the\n",
              "      current browser session. Please rerun this cell to enable.\n",
              "      </output>\n",
              "      <script src=\"/nbextensions/google.colab/files.js\"></script> "
            ],
            "text/plain": [
              "<IPython.core.display.HTML object>"
            ]
          },
          "metadata": {
            "tags": []
          }
        },
        {
          "output_type": "stream",
          "text": [
            "Saving cancer.csv to cancer.csv\n"
          ],
          "name": "stdout"
        }
      ]
    },
    {
      "cell_type": "code",
      "metadata": {
        "id": "f1PE-SunWMfL"
      },
      "source": [
        "import numpy as np\n",
        "import pandas as pd\n",
        "import matplotlib.pyplot as plt\n",
        "\n",
        "df=pd.read_csv('cancer.csv')\n",
        "df=df.drop(['id','diagnosis'],axis=1)\n",
        "\n",
        "#Considering a small dataset due to high computation time\n",
        "X=df.to_numpy()\n",
        "X=X[0:11,:-1]"
      ],
      "execution_count": 4,
      "outputs": []
    },
    {
      "cell_type": "code",
      "metadata": {
        "id": "g0wbAk1qWjr7",
        "outputId": "5aeb3a78-3e92-4f06-cda6-319f5f321a32",
        "colab": {
          "base_uri": "https://localhost:8080/",
          "height": 163
        }
      },
      "source": [
        "print(df.head())"
      ],
      "execution_count": 5,
      "outputs": [
        {
          "output_type": "stream",
          "text": [
            "   radius_mean  texture_mean  ...  fractal_dimension_worst  Unnamed: 32\n",
            "0        17.99         10.38  ...                  0.11890          NaN\n",
            "1        20.57         17.77  ...                  0.08902          NaN\n",
            "2        19.69         21.25  ...                  0.08758          NaN\n",
            "3        11.42         20.38  ...                  0.17300          NaN\n",
            "4        20.29         14.34  ...                  0.07678          NaN\n",
            "\n",
            "[5 rows x 31 columns]\n"
          ],
          "name": "stdout"
        }
      ]
    },
    {
      "cell_type": "code",
      "metadata": {
        "id": "rDZl-jQsWqEA"
      },
      "source": [
        "#Single Linkage\n",
        "class Dist_Mat_Compute_Single(object):\n",
        "\n",
        "    #class to enable the Computation of distance matrix \n",
        "    def __init__(self):\n",
        "        pass\n",
        "    \n",
        "    def compute_distance(self,samples):\n",
        "\n",
        "    #Creates a matrix of distances between individual samples and clusters attained at a particular step\n",
        "        \n",
        "        Dist_mat = np.zeros((len(samples),len(samples)))\n",
        "        for i in range(Dist_mat.shape[0]):\n",
        "            for j in range(Dist_mat.shape[0]):\n",
        "                if i!=j:\n",
        "                    Dist_mat[i,j] = float(self.distance_calculate(samples[i],samples[j]))\n",
        "                else:\n",
        "                    Dist_mat[i,j] = 10**4\n",
        "        return Dist_mat\n",
        "    \n",
        "    \n",
        "    def distance_calculate(self,sample1,sample2):\n",
        "        \n",
        "     # Distance calulated between two samples. The two samples can be both samples, both clusters or one cluster and one sample.\n",
        "        dist = []\n",
        "        for i in range(len(sample1)):\n",
        "            for j in range(len(sample2)):\n",
        "                try:\n",
        "                    dist.append(np.linalg.norm(np.array(sample1[i])-np.array(sample2[j])))\n",
        "                except:\n",
        "                    dist.append(self.intersampledist(sample1[i],sample2[j]))\n",
        "        return min(dist)\n",
        "    \n",
        "    \n",
        "    def intersampledist(self,s1,s2):\n",
        "    \n",
        "            #To be used in case we have one sample and one cluster.\n",
        "    \n",
        "        if str(type(s2[0]))!='<class \\'list\\'>':\n",
        "            s2=[s2]\n",
        "        if str(type(s1[0]))!='<class \\'list\\'>':\n",
        "            s1=[s1]\n",
        "        m = len(s1)\n",
        "        n = len(s2)\n",
        "        dist = []\n",
        "        if n>=m:\n",
        "            for i in range(n):\n",
        "                for j in range(m):\n",
        "                    if (len(s2[i])>=len(s1[j])) and str(type(s2[i][0])!='<class \\'list\\'>'):\n",
        "                        dist.append(self.interclusterdist(s2[i],s1[j]))\n",
        "                    else:\n",
        "                        dist.append(np.linalg.norm(np.array(s2[i])-np.array(s1[j])))\n",
        "        else:\n",
        "            for i in range(m):\n",
        "                for j in range(n):\n",
        "                    if (len(s1[i])>=len(s2[j])) and str(type(s1[i][0])!='<class \\'list\\'>'):\n",
        "                        dist.append(self.interclusterdist(s1[i],s2[j]))\n",
        "                    else:\n",
        "                        dist.append(np.linalg.norm(np.array(s1[i])-np.array(s2[j])))\n",
        "        return min(dist)\n",
        "    \n",
        "    def interclusterdist(self,cl,sample):\n",
        "        if sample[0]!='<class \\'list\\'>':\n",
        "            sample = [sample]\n",
        "        dist   = []\n",
        "        for i in range(len(cl)):\n",
        "            for j in range(len(sample)):\n",
        "                dist.append(np.linalg.norm(np.array(cl[i])-np.array(sample[j])))\n",
        "        return min(dist)"
      ],
      "execution_count": 36,
      "outputs": []
    },
    {
      "cell_type": "code",
      "metadata": {
        "id": "fyozorAdg1tj",
        "outputId": "a95df480-c8f5-4e3b-b58b-4977b822e8a7",
        "colab": {
          "base_uri": "https://localhost:8080/",
          "height": 999
        }
      },
      "source": [
        "curr_sampl = [[i] for i in range(X.shape[0])]\n",
        "samples     = [[list(X[i])] for i in range(X.shape[0])]\n",
        "m = len(samples)\n",
        "distcal  = Dist_Mat_Compute_Single()\n",
        "\n",
        "while m!=2:\n",
        "    print('Sample Size :- ',m)\n",
        "    Dist_mat      = distcal.compute_distance(samples)\n",
        "    smpl_indx_reqd = np.where(Dist_mat==Dist_mat.min())[0]\n",
        "    extracted_vals      = samples.pop(smpl_indx_reqd[1])\n",
        "    samples[smpl_indx_reqd[0]].append(extracted_vals)\n",
        "    \n",
        "    curr_sampl[smpl_indx_reqd[0]].append(curr_sampl[smpl_indx_reqd[1]])\n",
        "    curr_sampl[smpl_indx_reqd[0]] = [curr_sampl[smpl_indx_reqd[0]]]\n",
        "    v = curr_sampl.pop(smpl_indx_reqd[1])\n",
        "    m = len(samples)\n",
        "    \n",
        "    print('Current Sample      :-',curr_sampl)\n",
        "    print('New Cluster Formed :-',curr_sampl[smpl_indx_reqd[0]])\n",
        "    print('Updated Sample Size :-',m)\n",
        "    print('\\n')"
      ],
      "execution_count": 37,
      "outputs": [
        {
          "output_type": "stream",
          "text": [
            "Sample Size :-  11\n",
            "Current Sample      :- [[0], [1], [2], [3], [4], [[5, [9]]], [6], [7], [8], [10]]\n",
            "New Cluster Formed :- [[5, [9]]]\n",
            "Updated Sample Size :- 10\n",
            "\n",
            "\n",
            "Sample Size :-  10\n",
            "Current Sample      :- [[0], [1], [2], [3], [4], [[[5, [9]], [8]]], [6], [7], [10]]\n",
            "New Cluster Formed :- [[[5, [9]], [8]]]\n",
            "Updated Sample Size :- 9\n",
            "\n",
            "\n",
            "Sample Size :-  9\n",
            "Current Sample      :- [[0], [1], [[2, [4]]], [3], [[[5, [9]], [8]]], [6], [7], [10]]\n",
            "New Cluster Formed :- [[2, [4]]]\n",
            "Updated Sample Size :- 8\n",
            "\n",
            "\n",
            "Sample Size :-  8\n",
            "Current Sample      :- [[0], [1], [[2, [4]]], [[3, [[[5, [9]], [8]]]]], [6], [7], [10]]\n",
            "New Cluster Formed :- [[3, [[[5, [9]], [8]]]]]\n",
            "Updated Sample Size :- 7\n",
            "\n",
            "\n",
            "Sample Size :-  7\n",
            "Current Sample      :- [[0], [1], [[2, [4]]], [[[3, [[[5, [9]], [8]]]], [7]]], [6], [10]]\n",
            "New Cluster Formed :- [[[3, [[[5, [9]], [8]]]], [7]]]\n",
            "Updated Sample Size :- 6\n",
            "\n",
            "\n",
            "Sample Size :-  6\n",
            "Current Sample      :- [[0], [1], [[[2, [4]], [6]]], [[[3, [[[5, [9]], [8]]]], [7]]], [10]]\n",
            "New Cluster Formed :- [[[2, [4]], [6]]]\n",
            "Updated Sample Size :- 5\n",
            "\n",
            "\n",
            "Sample Size :-  5\n",
            "Current Sample      :- [[0], [[1, [[[2, [4]], [6]]]]], [[[3, [[[5, [9]], [8]]]], [7]]], [10]]\n",
            "New Cluster Formed :- [[1, [[[2, [4]], [6]]]]]\n",
            "Updated Sample Size :- 4\n",
            "\n",
            "\n",
            "Sample Size :-  4\n",
            "Current Sample      :- [[0], [[1, [[[2, [4]], [6]]]]], [[[[3, [[[5, [9]], [8]]]], [7]], [10]]]]\n",
            "New Cluster Formed :- [[[[3, [[[5, [9]], [8]]]], [7]], [10]]]\n",
            "Updated Sample Size :- 3\n",
            "\n",
            "\n",
            "Sample Size :-  3\n",
            "Current Sample      :- [[[0, [[1, [[[2, [4]], [6]]]]]]], [[[[3, [[[5, [9]], [8]]]], [7]], [10]]]]\n",
            "New Cluster Formed :- [[0, [[1, [[[2, [4]], [6]]]]]]]\n",
            "Updated Sample Size :- 2\n",
            "\n",
            "\n"
          ],
          "name": "stdout"
        }
      ]
    },
    {
      "cell_type": "code",
      "metadata": {
        "id": "kB5uDxLKXXpp",
        "outputId": "86e1b3e3-8118-48dc-dd82-e89968f23c52",
        "colab": {
          "base_uri": "https://localhost:8080/",
          "height": 447
        }
      },
      "source": [
        "from scipy.cluster.hierarchy import dendrogram, linkage\n",
        "from matplotlib import pyplot as plt\n",
        "Z = linkage(X, 'single')\n",
        "fig = plt.figure(figsize=(25, 10))\n",
        "dn = dendrogram(Z)"
      ],
      "execution_count": 38,
      "outputs": [
        {
          "output_type": "display_data",
          "data": {
            "image/png": "[encoded data removed]",
            "text/plain": [
              "<Figure size 1800x720 with 1 Axes>"
            ]
          },
          "metadata": {
            "tags": [],
            "needs_background": "light"
          }
        }
      ]
    },
    {
      "cell_type": "code",
      "metadata": {
        "id": "5BTzIa7fjN6B"
      },
      "source": [
        "#Complete Linkage\n",
        "class Dist_Mat_Compute_Comp(object):\n",
        "\n",
        "    #class to enable the Computation of distance matrix \n",
        "    def __init__(self):\n",
        "        pass\n",
        "    \n",
        "    def compute_distance(self,samples):\n",
        "\n",
        "    #Creates a matrix of distances between individual samples and clusters attained at a particular step\n",
        "        \n",
        "        Dist_mat = np.zeros((len(samples),len(samples)))\n",
        "        for i in range(Dist_mat.shape[0]):\n",
        "            for j in range(Dist_mat.shape[0]):\n",
        "                if i!=j:\n",
        "                    Dist_mat[i,j] = float(self.distance_calculate(samples[i],samples[j]))\n",
        "                else:\n",
        "                    Dist_mat[i,j] = 10**4\n",
        "        return Dist_mat\n",
        "    \n",
        "    \n",
        "    def distance_calculate(self,sample1,sample2):\n",
        "        \n",
        "     # Distance calulated between two samples. The two samples can be both samples, both clusters or one cluster and one sample.\n",
        "        dist = []\n",
        "        for i in range(len(sample1)):\n",
        "            for j in range(len(sample2)):\n",
        "                try:\n",
        "                    dist.append(np.linalg.norm(np.array(sample1[i])-np.array(sample2[j])))\n",
        "                except:\n",
        "                    dist.append(self.intersampledist(sample1[i],sample2[j]))\n",
        "        return max(dist)\n",
        "    \n",
        "    \n",
        "    def intersampledist(self,s1,s2):\n",
        "    \n",
        "            #To be used in case we have one sample and one cluster.\n",
        "    \n",
        "        if str(type(s2[0]))!='<class \\'list\\'>':\n",
        "            s2=[s2]\n",
        "        if str(type(s1[0]))!='<class \\'list\\'>':\n",
        "            s1=[s1]\n",
        "        m = len(s1)\n",
        "        n = len(s2)\n",
        "        dist = []\n",
        "        if n>=m:\n",
        "            for i in range(n):\n",
        "                for j in range(m):\n",
        "                    if (len(s2[i])>=len(s1[j])) and str(type(s2[i][0])!='<class \\'list\\'>'):\n",
        "                        dist.append(self.interclusterdist(s2[i],s1[j]))\n",
        "                    else:\n",
        "                        dist.append(np.linalg.norm(np.array(s2[i])-np.array(s1[j])))\n",
        "        else:\n",
        "            for i in range(m):\n",
        "                for j in range(n):\n",
        "                    if (len(s1[i])>=len(s2[j])) and str(type(s1[i][0])!='<class \\'list\\'>'):\n",
        "                        dist.append(self.interclusterdist(s1[i],s2[j]))\n",
        "                    else:\n",
        "                        dist.append(np.linalg.norm(np.array(s1[i])-np.array(s2[j])))\n",
        "        return max(dist)\n",
        "    \n",
        "    def interclusterdist(self,cl,sample):\n",
        "        if sample[0]!='<class \\'list\\'>':\n",
        "            sample = [sample]\n",
        "        dist   = []\n",
        "        for i in range(len(cl)):\n",
        "            for j in range(len(sample)):\n",
        "                dist.append(np.linalg.norm(np.array(cl[i])-np.array(sample[j])))\n",
        "        return max(dist)"
      ],
      "execution_count": 39,
      "outputs": []
    },
    {
      "cell_type": "code",
      "metadata": {
        "id": "sqzMfw1HjXjF",
        "outputId": "c4308afb-17d1-4877-bf8e-a42a4b3d46b6",
        "colab": {
          "base_uri": "https://localhost:8080/",
          "height": 999
        }
      },
      "source": [
        "curr_sampl = [[i] for i in range(X.shape[0])]\n",
        "samples     = [[list(X[i])] for i in range(X.shape[0])]\n",
        "m = len(samples)\n",
        "distcal  = Dist_Mat_Compute_Comp()\n",
        "\n",
        "\n",
        "while m!=2:\n",
        "    print('Sample size :- ',m)\n",
        "    Dist_mat      = distcal.compute_distance(samples)\n",
        "    smpl_indx_reqd = np.where(Dist_mat==Dist_mat.max())[0]\n",
        "    extracted_vals      = samples.pop(smpl_indx_reqd[1])\n",
        "    samples[smpl_indx_reqd[0]].append(extracted_vals)\n",
        "    \n",
        "    \n",
        "    curr_sampl[smpl_indx_reqd[0]].append(curr_sampl[smpl_indx_reqd[1]])\n",
        "    curr_sampl[smpl_indx_reqd[0]] = [curr_sampl[smpl_indx_reqd[0]]]\n",
        "    v = curr_sampl.pop(smpl_indx_reqd[1])\n",
        "    m = len(samples)\n",
        "    \n",
        "    print(\"Current Sample :\",curr_sampl)\n",
        "    print('New CLuster Formed  :-',curr_sampl[smpl_indx_reqd[0]])\n",
        "    print('Updated Sample Size :-',m)\n",
        "    print('\\n')"
      ],
      "execution_count": 23,
      "outputs": [
        {
          "output_type": "stream",
          "text": [
            "Sample size :-  11\n",
            "Current Sample : [[[0, [1]]], [2], [3], [4], [5], [6], [7], [8], [9], [10]]\n",
            "New CLuster Formed  :- [[0, [1]]]\n",
            "Current Sample Size :- 10\n",
            "\n",
            "\n",
            "Sample size :-  10\n",
            "Current Sample : [[[[0, [1]], [2]]], [3], [4], [5], [6], [7], [8], [9], [10]]\n",
            "New CLuster Formed  :- [[[0, [1]], [2]]]\n",
            "Current Sample Size :- 9\n",
            "\n",
            "\n",
            "Sample size :-  9\n",
            "Current Sample : [[[[[0, [1]], [2]], [3]]], [4], [5], [6], [7], [8], [9], [10]]\n",
            "New CLuster Formed  :- [[[[0, [1]], [2]], [3]]]\n",
            "Current Sample Size :- 8\n",
            "\n",
            "\n",
            "Sample size :-  8\n",
            "Current Sample : [[[[[[0, [1]], [2]], [3]], [4]]], [5], [6], [7], [8], [9], [10]]\n",
            "New CLuster Formed  :- [[[[[0, [1]], [2]], [3]], [4]]]\n",
            "Current Sample Size :- 7\n",
            "\n",
            "\n",
            "Sample size :-  7\n",
            "Current Sample : [[[[[[[0, [1]], [2]], [3]], [4]], [5]]], [6], [7], [8], [9], [10]]\n",
            "New CLuster Formed  :- [[[[[[0, [1]], [2]], [3]], [4]], [5]]]\n",
            "Current Sample Size :- 6\n",
            "\n",
            "\n",
            "Sample size :-  6\n",
            "Current Sample : [[[[[[[[0, [1]], [2]], [3]], [4]], [5]], [6]]], [7], [8], [9], [10]]\n",
            "New CLuster Formed  :- [[[[[[[0, [1]], [2]], [3]], [4]], [5]], [6]]]\n",
            "Current Sample Size :- 5\n",
            "\n",
            "\n",
            "Sample size :-  5\n",
            "Current Sample : [[[[[[[[[0, [1]], [2]], [3]], [4]], [5]], [6]], [7]]], [8], [9], [10]]\n",
            "New CLuster Formed  :- [[[[[[[[0, [1]], [2]], [3]], [4]], [5]], [6]], [7]]]\n",
            "Current Sample Size :- 4\n",
            "\n",
            "\n",
            "Sample size :-  4\n",
            "Current Sample : [[[[[[[[[[0, [1]], [2]], [3]], [4]], [5]], [6]], [7]], [8]]], [9], [10]]\n",
            "New CLuster Formed  :- [[[[[[[[[0, [1]], [2]], [3]], [4]], [5]], [6]], [7]], [8]]]\n",
            "Current Sample Size :- 3\n",
            "\n",
            "\n",
            "Sample size :-  3\n",
            "Current Sample : [[[[[[[[[[[0, [1]], [2]], [3]], [4]], [5]], [6]], [7]], [8]], [9]]], [10]]\n",
            "New CLuster Formed  :- [[[[[[[[[[0, [1]], [2]], [3]], [4]], [5]], [6]], [7]], [8]], [9]]]\n",
            "Current Sample Size :- 2\n",
            "\n",
            "\n"
          ],
          "name": "stdout"
        }
      ]
    },
    {
      "cell_type": "code",
      "metadata": {
        "id": "H8K9BRjmj-zK",
        "outputId": "61fa74ad-cf88-487a-93a3-92716d6e2f94",
        "colab": {
          "base_uri": "https://localhost:8080/",
          "height": 445
        }
      },
      "source": [
        "from scipy.cluster.hierarchy import dendrogram, linkage\n",
        "from matplotlib import pyplot as plt\n",
        "Z = linkage(X, 'complete')\n",
        "fig = plt.figure(figsize=(25, 10))\n",
        "dn = dendrogram(Z)"
      ],
      "execution_count": 40,
      "outputs": [
        {
          "output_type": "display_data",
          "data": {
            "image/png": "[encoded data removed]",
            "text/plain": [
              "<Figure size 1800x720 with 1 Axes>"
            ]
          },
          "metadata": {
            "tags": [],
            "needs_background": "light"
          }
        }
      ]
    },
    {
      "cell_type": "code",
      "metadata": {
        "id": "0cKuJos5lB-b"
      },
      "source": [
        "#Average Linkage\n",
        "class Dist_Mat_Compute_Avg(object):\n",
        "\n",
        "    #class to enable the Computation of distance matrix \n",
        "    def __init__(self):\n",
        "        pass\n",
        "    \n",
        "    def compute_distance(self,samples):\n",
        "\n",
        "    #Creates a matrix of distances between individual samples and clusters attained at a particular step\n",
        "        \n",
        "        Dist_mat = np.zeros((len(samples),len(samples)))\n",
        "        for i in range(Dist_mat.shape[0]):\n",
        "            for j in range(Dist_mat.shape[0]):\n",
        "                if i!=j:\n",
        "                    Dist_mat[i,j] = float(self.distance_calculate(samples[i],samples[j]))\n",
        "                else:\n",
        "                    Dist_mat[i,j] = 10**4\n",
        "        return Dist_mat\n",
        "    \n",
        "    \n",
        "    def distance_calculate(self,sample1,sample2):\n",
        "        \n",
        "     # Distance calulated between two samples. The two samples can be both samples, both clusters or one cluster and one sample.\n",
        "        dist = []\n",
        "        for i in range(len(sample1)):\n",
        "            for j in range(len(sample2)):\n",
        "                try:\n",
        "                    dist.append(np.linalg.norm(np.array(sample1[i])-np.array(sample2[j])))\n",
        "                except:\n",
        "                    dist.append(self.intersampledist(sample1[i],sample2[j]))\n",
        "        return sum(dist)/len(dist)\n",
        "    \n",
        "    \n",
        "    def intersampledist(self,s1,s2):\n",
        "    \n",
        "            #To be used in case we have one sample and one cluster.\n",
        "    \n",
        "        if str(type(s2[0]))!='<class \\'list\\'>':\n",
        "            s2=[s2]\n",
        "        if str(type(s1[0]))!='<class \\'list\\'>':\n",
        "            s1=[s1]\n",
        "        m = len(s1)\n",
        "        n = len(s2)\n",
        "        dist = []\n",
        "        if n>=m:\n",
        "            for i in range(n):\n",
        "                for j in range(m):\n",
        "                    if (len(s2[i])>=len(s1[j])) and str(type(s2[i][0])!='<class \\'list\\'>'):\n",
        "                        dist.append(self.interclusterdist(s2[i],s1[j]))\n",
        "                    else:\n",
        "                        dist.append(np.linalg.norm(np.array(s2[i])-np.array(s1[j])))\n",
        "        else:\n",
        "            for i in range(m):\n",
        "                for j in range(n):\n",
        "                    if (len(s1[i])>=len(s2[j])) and str(type(s1[i][0])!='<class \\'list\\'>'):\n",
        "                        dist.append(self.interclusterdist(s1[i],s2[j]))\n",
        "                    else:\n",
        "                        dist.append(np.linalg.norm(np.array(s1[i])-np.array(s2[j])))\n",
        "        return sum(dist)/len(dist)\n",
        "    \n",
        "    def interclusterdist(self,cl,sample):\n",
        "        if sample[0]!='<class \\'list\\'>':\n",
        "            sample = [sample]\n",
        "        dist   = []\n",
        "        for i in range(len(cl)):\n",
        "            for j in range(len(sample)):\n",
        "                dist.append(np.linalg.norm(np.array(cl[i])-np.array(sample[j])))\n",
        "        return sum(dist)/len(dist)"
      ],
      "execution_count": 41,
      "outputs": []
    },
    {
      "cell_type": "code",
      "metadata": {
        "id": "MxbZ0NG8lRZP",
        "outputId": "ad656e4d-6c98-4199-930e-dcbdea917520",
        "colab": {
          "base_uri": "https://localhost:8080/",
          "height": 999
        }
      },
      "source": [
        "curr_sampl = [[i] for i in range(X.shape[0])]\n",
        "samples     = [[list(X[i])] for i in range(X.shape[0])]\n",
        "m = len(samples)\n",
        "distcal  = Dist_Mat_Compute_Avg()\n",
        "\n",
        "\n",
        "while m!=2:\n",
        "    print('Sample size    :- ',m)\n",
        "    Dist_mat      = distcal.compute_distance(samples)\n",
        "    smpl_indx_reqd = np.where(Dist_mat==Dist_mat.min())[0]\n",
        "    extracted_vals      = samples.pop(smpl_indx_reqd[1])\n",
        "    samples[smpl_indx_reqd[0]].append(extracted_vals)\n",
        "    \n",
        "    \n",
        "    curr_sampl[smpl_indx_reqd[0]].append(curr_sampl[smpl_indx_reqd[1]])\n",
        "    curr_sampl[smpl_indx_reqd[0]] = [curr_sampl[smpl_indx_reqd[0]]]\n",
        "    v = curr_sampl.pop(smpl_indx_reqd[1])\n",
        "    m = len(samples)\n",
        "    \n",
        "    print('Current Sample :-',curr_sampl)\n",
        "    print('New Cluster Formed    :-',curr_sampl[smpl_indx_reqd[0]])\n",
        "    print('Updated Sample Size  :-',m)\n",
        "    print('\\n')"
      ],
      "execution_count": 42,
      "outputs": [
        {
          "output_type": "stream",
          "text": [
            "Sample size    :-  11\n",
            "Current Sample :- [[0], [1], [2], [3], [4], [[5, [9]]], [6], [7], [8], [10]]\n",
            "New Cluster Formed    :- [[5, [9]]]\n",
            "Updated Sample Size  :- 10\n",
            "\n",
            "\n",
            "Sample size    :-  10\n",
            "Current Sample :- [[0], [1], [2], [3], [4], [[[5, [9]], [8]]], [6], [7], [10]]\n",
            "New Cluster Formed    :- [[[5, [9]], [8]]]\n",
            "Updated Sample Size  :- 9\n",
            "\n",
            "\n",
            "Sample size    :-  9\n",
            "Current Sample :- [[0], [1], [[2, [4]]], [3], [[[5, [9]], [8]]], [6], [7], [10]]\n",
            "New Cluster Formed    :- [[2, [4]]]\n",
            "Updated Sample Size  :- 8\n",
            "\n",
            "\n",
            "Sample size    :-  8\n",
            "Current Sample :- [[0], [1], [[2, [4]]], [3], [[[[5, [9]], [8]], [7]]], [6], [10]]\n",
            "New Cluster Formed    :- [[[[5, [9]], [8]], [7]]]\n",
            "Updated Sample Size  :- 7\n",
            "\n",
            "\n",
            "Sample size    :-  7\n",
            "Current Sample :- [[0], [1], [[[2, [4]], [6]]], [3], [[[[5, [9]], [8]], [7]]], [10]]\n",
            "New Cluster Formed    :- [[[2, [4]], [6]]]\n",
            "Updated Sample Size  :- 6\n",
            "\n",
            "\n",
            "Sample size    :-  6\n",
            "Current Sample :- [[0], [1], [[[2, [4]], [6]]], [[3, [[[[5, [9]], [8]], [7]]]]], [10]]\n",
            "New Cluster Formed    :- [[3, [[[[5, [9]], [8]], [7]]]]]\n",
            "Updated Sample Size  :- 5\n",
            "\n",
            "\n",
            "Sample size    :-  5\n",
            "Current Sample :- [[[0, [1]]], [[[2, [4]], [6]]], [[3, [[[[5, [9]], [8]], [7]]]]], [10]]\n",
            "New Cluster Formed    :- [[0, [1]]]\n",
            "Updated Sample Size  :- 4\n",
            "\n",
            "\n",
            "Sample size    :-  4\n",
            "Current Sample :- [[[[0, [1]], [[[2, [4]], [6]]]]], [[3, [[[[5, [9]], [8]], [7]]]]], [10]]\n",
            "New Cluster Formed    :- [[[0, [1]], [[[2, [4]], [6]]]]]\n",
            "Updated Sample Size  :- 3\n",
            "\n",
            "\n",
            "Sample size    :-  3\n",
            "Current Sample :- [[[[0, [1]], [[[2, [4]], [6]]]]], [[[3, [[[[5, [9]], [8]], [7]]]], [10]]]]\n",
            "New Cluster Formed    :- [[[3, [[[[5, [9]], [8]], [7]]]], [10]]]\n",
            "Updated Sample Size  :- 2\n",
            "\n",
            "\n"
          ],
          "name": "stdout"
        }
      ]
    },
    {
      "cell_type": "code",
      "metadata": {
        "id": "9wmIBH9oluny",
        "outputId": "e3d3b717-ef88-4b25-d455-7bbd78d1b1ac",
        "colab": {
          "base_uri": "https://localhost:8080/",
          "height": 445
        }
      },
      "source": [
        "from scipy.cluster.hierarchy import dendrogram, linkage\n",
        "from matplotlib import pyplot as plt\n",
        "Z = linkage(X, 'average')\n",
        "fig = plt.figure(figsize=(25, 10))\n",
        "dn = dendrogram(Z)"
      ],
      "execution_count": 43,
      "outputs": [
        {
          "output_type": "display_data",
          "data": {
            "image/png": "[encoded data removed]",
            "text/plain": [
              "<Figure size 1800x720 with 1 Axes>"
            ]
          },
          "metadata": {
            "tags": [],
            "needs_background": "light"
          }
        }
      ]
    }
  ]
}